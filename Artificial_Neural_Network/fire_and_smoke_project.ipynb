{
  "nbformat": 4,
  "nbformat_minor": 0,
  "metadata": {
    "colab": {
      "provenance": [],
      "gpuType": "T4"
    },
    "kernelspec": {
      "name": "python3",
      "display_name": "Python 3"
    },
    "language_info": {
      "name": "python"
    },
    "accelerator": "GPU"
  },
  "cells": [
    {
      "cell_type": "code",
      "execution_count": null,
      "metadata": {
        "id": "9WhvT67bm8no"
      },
      "outputs": [],
      "source": [
        "import tensorflow as tf\n",
        "from tensorflow.keras.preprocessing.image import ImageDataGenerator"
      ]
    },
    {
      "cell_type": "code",
      "source": [
        "# checking availability of GPU\n",
        "\n",
        "tf.test.is_gpu_available()"
      ],
      "metadata": {
        "colab": {
          "base_uri": "https://localhost:8080/"
        },
        "id": "P3FdxOpdvJ1Z",
        "outputId": "83a25e4d-6033-4984-8f20-968d9c330790"
      },
      "execution_count": null,
      "outputs": [
        {
          "output_type": "stream",
          "name": "stderr",
          "text": [
            "WARNING:tensorflow:From <ipython-input-2-51bf6b48503c>:3: is_gpu_available (from tensorflow.python.framework.test_util) is deprecated and will be removed in a future version.\n",
            "Instructions for updating:\n",
            "Use `tf.config.list_physical_devices('GPU')` instead.\n"
          ]
        },
        {
          "output_type": "execute_result",
          "data": {
            "text/plain": [
              "True"
            ]
          },
          "metadata": {},
          "execution_count": 2
        }
      ]
    },
    {
      "cell_type": "code",
      "source": [
        "from google.colab import drive\n",
        "drive.mount('/content/gdrive')"
      ],
      "metadata": {
        "colab": {
          "base_uri": "https://localhost:8080/"
        },
        "id": "Z6Ot_aTrvkJl",
        "outputId": "8830190f-c024-4e8a-b6dc-34c27c33c233"
      },
      "execution_count": null,
      "outputs": [
        {
          "output_type": "stream",
          "name": "stdout",
          "text": [
            "Mounted at /content/gdrive\n"
          ]
        }
      ]
    },
    {
      "cell_type": "code",
      "source": [
        "batch_size = 16\n",
        "\n",
        "training_datagenerator = ImageDataGenerator(\n",
        "    rescale= 1./255,\n",
        "    horizontal_flip=True,\n",
        "    vertical_flip=True,\n",
        "    shear_range=0.2,\n",
        "    zoom_range=0.2,\n",
        "    width_shift_range=0.2,\n",
        "    height_shift_range=0.2,\n",
        "    validation_split=0.1\n",
        "    )"
      ],
      "metadata": {
        "id": "HrnpBiWMw8bB"
      },
      "execution_count": null,
      "outputs": []
    },
    {
      "cell_type": "code",
      "source": [
        "train = training_datagenerator.flow_from_directory(\n",
        "'/content/gdrive/MyDrive/Takeo/Fire_Smoke/train',\n",
        "target_size = (224,224),\n",
        "color_mode='rgb',\n",
        "class_mode='binary',\n",
        "batch_size=batch_size,\n",
        "subset='training'\n",
        ")"
      ],
      "metadata": {
        "colab": {
          "base_uri": "https://localhost:8080/"
        },
        "id": "6ehQnly-yLyj",
        "outputId": "b183989e-75ee-43c9-f125-678392588e51"
      },
      "execution_count": null,
      "outputs": [
        {
          "output_type": "stream",
          "name": "stdout",
          "text": [
            "Found 1802 images belonging to 2 classes.\n"
          ]
        }
      ]
    },
    {
      "cell_type": "code",
      "source": [
        "validation = training_datagenerator.flow_from_directory(\n",
        "'/content/gdrive/MyDrive/Takeo/Fire_Smoke/validate',\n",
        "target_size = (224,224),\n",
        "color_mode='rgb',\n",
        "class_mode='binary',\n",
        "batch_size=batch_size,\n",
        "subset='training'\n",
        ")"
      ],
      "metadata": {
        "colab": {
          "base_uri": "https://localhost:8080/"
        },
        "id": "brrPW4AjzS85",
        "outputId": "51d96c0e-eafe-4074-9711-5a8b0e00a7b1"
      },
      "execution_count": null,
      "outputs": [
        {
          "output_type": "stream",
          "name": "stdout",
          "text": [
            "Found 902 images belonging to 2 classes.\n"
          ]
        }
      ]
    },
    {
      "cell_type": "code",
      "source": [
        "cnn = tf.keras.models.Sequential()"
      ],
      "metadata": {
        "id": "EbHa1sokzaAY"
      },
      "execution_count": null,
      "outputs": []
    },
    {
      "cell_type": "code",
      "source": [
        "# adding first layer\n",
        "\n",
        "cnn.add(tf.keras.layers.Conv2D(filters=32,kernel_size=3,padding='same',activation='relu',input_shape=[224,224,3]))\n",
        "cnn.add(tf.keras.layers.MaxPool2D(pool_size=2))"
      ],
      "metadata": {
        "id": "J4LW7VkQzoeQ"
      },
      "execution_count": null,
      "outputs": []
    },
    {
      "cell_type": "code",
      "source": [
        "# adding second layer\n",
        "\n",
        "cnn.add(tf.keras.layers.Conv2D(filters=64,kernel_size=3,padding='same',activation='relu'))\n",
        "cnn.add(tf.keras.layers.MaxPool2D(pool_size=2))"
      ],
      "metadata": {
        "id": "PlLy4Ewm0qnJ"
      },
      "execution_count": null,
      "outputs": []
    },
    {
      "cell_type": "code",
      "source": [
        "# adding third layer\n",
        "\n",
        "cnn.add(tf.keras.layers.Conv2D(filters=256,kernel_size=3,padding='same',activation='relu'))\n",
        "cnn.add(tf.keras.layers.MaxPool2D(pool_size=2))"
      ],
      "metadata": {
        "id": "Rj907i4O0xwB"
      },
      "execution_count": null,
      "outputs": []
    },
    {
      "cell_type": "code",
      "source": [
        "# flattening\n",
        "\n",
        "cnn.add(tf.keras.layers.Flatten())"
      ],
      "metadata": {
        "id": "ic76OsoB09BJ"
      },
      "execution_count": null,
      "outputs": []
    },
    {
      "cell_type": "code",
      "source": [
        "# Fully connected layer\n",
        "\n",
        "cnn.add(tf.keras.layers.Dense(units=128,activation='relu'))"
      ],
      "metadata": {
        "id": "3CuX5NQl1KUx"
      },
      "execution_count": null,
      "outputs": []
    },
    {
      "cell_type": "code",
      "source": [
        "# Output layers\n",
        "\n",
        "cnn.add(tf.keras.layers.Dense(units=1,activation='sigmoid'))"
      ],
      "metadata": {
        "id": "4bhwPANh1OMo"
      },
      "execution_count": null,
      "outputs": []
    },
    {
      "cell_type": "code",
      "source": [
        "cnn.summary()"
      ],
      "metadata": {
        "colab": {
          "base_uri": "https://localhost:8080/"
        },
        "id": "3SIUpzty1Vx4",
        "outputId": "a6c8c9bb-9db2-48ad-a9de-a51df4741a84"
      },
      "execution_count": null,
      "outputs": [
        {
          "output_type": "stream",
          "name": "stdout",
          "text": [
            "Model: \"sequential\"\n",
            "_________________________________________________________________\n",
            " Layer (type)                Output Shape              Param #   \n",
            "=================================================================\n",
            " conv2d (Conv2D)             (None, 224, 224, 32)      896       \n",
            "                                                                 \n",
            " max_pooling2d (MaxPooling2D  (None, 112, 112, 32)     0         \n",
            " )                                                               \n",
            "                                                                 \n",
            " conv2d_1 (Conv2D)           (None, 112, 112, 32)      9248      \n",
            "                                                                 \n",
            " max_pooling2d_1 (MaxPooling  (None, 56, 56, 32)       0         \n",
            " 2D)                                                             \n",
            "                                                                 \n",
            " conv2d_2 (Conv2D)           (None, 56, 56, 256)       73984     \n",
            "                                                                 \n",
            " max_pooling2d_2 (MaxPooling  (None, 28, 28, 256)      0         \n",
            " 2D)                                                             \n",
            "                                                                 \n",
            " flatten (Flatten)           (None, 200704)            0         \n",
            "                                                                 \n",
            " dense (Dense)               (None, 128)               25690240  \n",
            "                                                                 \n",
            " dense_1 (Dense)             (None, 128)               16512     \n",
            "                                                                 \n",
            " dense_2 (Dense)             (None, 1)                 129       \n",
            "                                                                 \n",
            " dense_3 (Dense)             (None, 1)                 2         \n",
            "                                                                 \n",
            "=================================================================\n",
            "Total params: 25,791,011\n",
            "Trainable params: 25,791,011\n",
            "Non-trainable params: 0\n",
            "_________________________________________________________________\n"
          ]
        }
      ]
    },
    {
      "cell_type": "code",
      "source": [
        "# Compile and Train\n",
        "\n",
        "checkpoint=tf.keras.callbacks.ModelCheckpoint('/content/gdrive/MyDrive/Fire_Smoke/Fire_and_Smoke.h5',\n",
        "                                             monitor='val_loss',mode=\"min\",\n",
        "                                             save_best_only=True)\n",
        "callbacks=checkpoint"
      ],
      "metadata": {
        "id": "3dDJG_P71yTj"
      },
      "execution_count": null,
      "outputs": []
    },
    {
      "cell_type": "code",
      "source": [
        "cnn.compile(optimizer='Adam',loss='binary_crossentropy',metrics=['accuracy'])\n",
        "\n",
        "cnn.fit_generator(train,validation_data=validation,epochs=1,\n",
        "                  steps_per_epoch=train.samples//batch_size,\n",
        "                  validation_steps=validation.samples//batch_size,\n",
        "                  callbacks=callbacks\n",
        "                 )"
      ],
      "metadata": {
        "colab": {
          "base_uri": "https://localhost:8080/"
        },
        "id": "LxcbwI4V2ZlZ",
        "outputId": "17d57069-d2d0-405c-fa8b-be573c918e06"
      },
      "execution_count": null,
      "outputs": [
        {
          "output_type": "stream",
          "name": "stderr",
          "text": [
            "<ipython-input-21-19d18e1a08c2>:3: UserWarning: `Model.fit_generator` is deprecated and will be removed in a future version. Please use `Model.fit`, which supports generators.\n",
            "  cnn.fit_generator(train,validation_data=validation,epochs=1,\n"
          ]
        },
        {
          "output_type": "stream",
          "name": "stdout",
          "text": [
            "112/112 [==============================] - 828s 7s/step - loss: 0.6578 - accuracy: 0.8651 - val_loss: 0.6479 - val_accuracy: 0.8895\n"
          ]
        },
        {
          "output_type": "execute_result",
          "data": {
            "text/plain": [
              "<keras.callbacks.History at 0x7f6a3f5cc640>"
            ]
          },
          "metadata": {},
          "execution_count": 21
        }
      ]
    }
  ]
}